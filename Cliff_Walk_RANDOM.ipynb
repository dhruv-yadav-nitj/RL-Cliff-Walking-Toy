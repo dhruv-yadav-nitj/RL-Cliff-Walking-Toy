{
 "cells": [
  {
   "metadata": {},
   "cell_type": "markdown",
   "source": "RANDOM AGENT",
   "id": "aa7b4da9111f2321"
  },
  {
   "cell_type": "code",
   "id": "initial_id",
   "metadata": {
    "collapsed": true,
    "ExecuteTime": {
     "end_time": "2024-06-12T10:54:51.222804Z",
     "start_time": "2024-06-12T10:54:48.432438Z"
    }
   },
   "source": [
    "import gymnasium as gym\n",
    "import numpy as np"
   ],
   "outputs": [],
   "execution_count": 1
  },
  {
   "metadata": {
    "ExecuteTime": {
     "end_time": "2024-06-12T10:54:51.264330Z",
     "start_time": "2024-06-12T10:54:51.227185Z"
    }
   },
   "cell_type": "code",
   "source": "env = gym.make('CliffWalking-v0', render_mode=\"human\")  # render_mode = ansi or human or ascii",
   "id": "fb69c3b7449f1e60",
   "outputs": [],
   "execution_count": 2
  },
  {
   "metadata": {
    "ExecuteTime": {
     "end_time": "2024-06-12T10:55:07.645388Z",
     "start_time": "2024-06-12T10:54:51.266867Z"
    }
   },
   "cell_type": "code",
   "source": [
    "done = False  # marks that episode has not ended yet\n",
    "state = env.reset()\n",
    "\n",
    "while not done:\n",
    "    env.render()\n",
    "    action = np.random.randint(0,4)  # 0 : up ; 1 : right ; 2 : down ; 3 : left (by-default)\n",
    "    print(state, \"-->\", action)  # state = cell_index = row*12+col\n",
    "    state, reward, done, truncated, info = env.step(action)  # if done = True -> means the bot reached the goal\n",
    "    # truncated was introduced in gymnasium_v26 package -> no use here!\n",
    "env.close()"
   ],
   "id": "615308dc2bf48deb",
   "outputs": [
    {
     "name": "stdout",
     "output_type": "stream",
     "text": [
      "(36, {'prob': 1}) --> 2\n",
      "36 --> 3\n",
      "36 --> 3\n",
      "36 --> 2\n",
      "36 --> 2\n",
      "36 --> 2\n",
      "36 --> 0\n",
      "24 --> 1\n",
      "25 --> 2\n",
      "36 --> 3\n",
      "36 --> 2\n",
      "36 --> 3\n",
      "36 --> 2\n",
      "36 --> 2\n",
      "36 --> 0\n",
      "24 --> 3\n",
      "24 --> 0\n",
      "12 --> 2\n",
      "24 --> 1\n",
      "25 --> 2\n",
      "36 --> 2\n",
      "36 --> 2\n",
      "36 --> 0\n",
      "24 --> 1\n",
      "25 --> 1\n",
      "26 --> 3\n",
      "25 --> 1\n"
     ]
    },
    {
     "ename": "KeyboardInterrupt",
     "evalue": "",
     "output_type": "error",
     "traceback": [
      "\u001B[1;31m---------------------------------------------------------------------------\u001B[0m",
      "\u001B[1;31mKeyboardInterrupt\u001B[0m                         Traceback (most recent call last)",
      "Cell \u001B[1;32mIn[3], line 8\u001B[0m\n\u001B[0;32m      6\u001B[0m     action \u001B[38;5;241m=\u001B[39m np\u001B[38;5;241m.\u001B[39mrandom\u001B[38;5;241m.\u001B[39mrandint(\u001B[38;5;241m0\u001B[39m,\u001B[38;5;241m4\u001B[39m)  \u001B[38;5;66;03m# 0 : up ; 1 : right ; 2 : down ; 3 : left (by-default)\u001B[39;00m\n\u001B[0;32m      7\u001B[0m     \u001B[38;5;28mprint\u001B[39m(state, \u001B[38;5;124m\"\u001B[39m\u001B[38;5;124m-->\u001B[39m\u001B[38;5;124m\"\u001B[39m, action)  \u001B[38;5;66;03m# state = cell_index = row*12+col\u001B[39;00m\n\u001B[1;32m----> 8\u001B[0m     state, reward, done, truncated, info \u001B[38;5;241m=\u001B[39m \u001B[43menv\u001B[49m\u001B[38;5;241;43m.\u001B[39;49m\u001B[43mstep\u001B[49m\u001B[43m(\u001B[49m\u001B[43maction\u001B[49m\u001B[43m)\u001B[49m  \u001B[38;5;66;03m# if done = True -> means the bot reached the goal\u001B[39;00m\n\u001B[0;32m      9\u001B[0m     \u001B[38;5;66;03m# truncated was introduced in gymnasium_v26 package -> no use here!\u001B[39;00m\n\u001B[0;32m     10\u001B[0m env\u001B[38;5;241m.\u001B[39mclose()\n",
      "File \u001B[1;32mG:\\RL-Cliff-Walking-Toy\\venv\\Lib\\site-packages\\gymnasium\\wrappers\\order_enforcing.py:56\u001B[0m, in \u001B[0;36mOrderEnforcing.step\u001B[1;34m(self, action)\u001B[0m\n\u001B[0;32m     54\u001B[0m \u001B[38;5;28;01mif\u001B[39;00m \u001B[38;5;129;01mnot\u001B[39;00m \u001B[38;5;28mself\u001B[39m\u001B[38;5;241m.\u001B[39m_has_reset:\n\u001B[0;32m     55\u001B[0m     \u001B[38;5;28;01mraise\u001B[39;00m ResetNeeded(\u001B[38;5;124m\"\u001B[39m\u001B[38;5;124mCannot call env.step() before calling env.reset()\u001B[39m\u001B[38;5;124m\"\u001B[39m)\n\u001B[1;32m---> 56\u001B[0m \u001B[38;5;28;01mreturn\u001B[39;00m \u001B[38;5;28;43mself\u001B[39;49m\u001B[38;5;241;43m.\u001B[39;49m\u001B[43menv\u001B[49m\u001B[38;5;241;43m.\u001B[39;49m\u001B[43mstep\u001B[49m\u001B[43m(\u001B[49m\u001B[43maction\u001B[49m\u001B[43m)\u001B[49m\n",
      "File \u001B[1;32mG:\\RL-Cliff-Walking-Toy\\venv\\Lib\\site-packages\\gymnasium\\wrappers\\env_checker.py:51\u001B[0m, in \u001B[0;36mPassiveEnvChecker.step\u001B[1;34m(self, action)\u001B[0m\n\u001B[0;32m     49\u001B[0m     \u001B[38;5;28;01mreturn\u001B[39;00m env_step_passive_checker(\u001B[38;5;28mself\u001B[39m\u001B[38;5;241m.\u001B[39menv, action)\n\u001B[0;32m     50\u001B[0m \u001B[38;5;28;01melse\u001B[39;00m:\n\u001B[1;32m---> 51\u001B[0m     \u001B[38;5;28;01mreturn\u001B[39;00m \u001B[38;5;28;43mself\u001B[39;49m\u001B[38;5;241;43m.\u001B[39;49m\u001B[43menv\u001B[49m\u001B[38;5;241;43m.\u001B[39;49m\u001B[43mstep\u001B[49m\u001B[43m(\u001B[49m\u001B[43maction\u001B[49m\u001B[43m)\u001B[49m\n",
      "File \u001B[1;32mG:\\RL-Cliff-Walking-Toy\\venv\\Lib\\site-packages\\gymnasium\\envs\\toy_text\\cliffwalking.py:181\u001B[0m, in \u001B[0;36mCliffWalkingEnv.step\u001B[1;34m(self, a)\u001B[0m\n\u001B[0;32m    178\u001B[0m \u001B[38;5;28mself\u001B[39m\u001B[38;5;241m.\u001B[39mlastaction \u001B[38;5;241m=\u001B[39m a\n\u001B[0;32m    180\u001B[0m \u001B[38;5;28;01mif\u001B[39;00m \u001B[38;5;28mself\u001B[39m\u001B[38;5;241m.\u001B[39mrender_mode \u001B[38;5;241m==\u001B[39m \u001B[38;5;124m\"\u001B[39m\u001B[38;5;124mhuman\u001B[39m\u001B[38;5;124m\"\u001B[39m:\n\u001B[1;32m--> 181\u001B[0m     \u001B[38;5;28;43mself\u001B[39;49m\u001B[38;5;241;43m.\u001B[39;49m\u001B[43mrender\u001B[49m\u001B[43m(\u001B[49m\u001B[43m)\u001B[49m\n\u001B[0;32m    182\u001B[0m \u001B[38;5;28;01mreturn\u001B[39;00m (\u001B[38;5;28mint\u001B[39m(s), r, t, \u001B[38;5;28;01mFalse\u001B[39;00m, {\u001B[38;5;124m\"\u001B[39m\u001B[38;5;124mprob\u001B[39m\u001B[38;5;124m\"\u001B[39m: p})\n",
      "File \u001B[1;32mG:\\RL-Cliff-Walking-Toy\\venv\\Lib\\site-packages\\gymnasium\\envs\\toy_text\\cliffwalking.py:206\u001B[0m, in \u001B[0;36mCliffWalkingEnv.render\u001B[1;34m(self)\u001B[0m\n\u001B[0;32m    204\u001B[0m     \u001B[38;5;28;01mreturn\u001B[39;00m \u001B[38;5;28mself\u001B[39m\u001B[38;5;241m.\u001B[39m_render_text()\n\u001B[0;32m    205\u001B[0m \u001B[38;5;28;01melse\u001B[39;00m:\n\u001B[1;32m--> 206\u001B[0m     \u001B[38;5;28;01mreturn\u001B[39;00m \u001B[38;5;28;43mself\u001B[39;49m\u001B[38;5;241;43m.\u001B[39;49m\u001B[43m_render_gui\u001B[49m\u001B[43m(\u001B[49m\u001B[38;5;28;43mself\u001B[39;49m\u001B[38;5;241;43m.\u001B[39;49m\u001B[43mrender_mode\u001B[49m\u001B[43m)\u001B[49m\n",
      "File \u001B[1;32mG:\\RL-Cliff-Walking-Toy\\venv\\Lib\\site-packages\\gymnasium\\envs\\toy_text\\cliffwalking.py:293\u001B[0m, in \u001B[0;36mCliffWalkingEnv._render_gui\u001B[1;34m(self, mode)\u001B[0m\n\u001B[0;32m    291\u001B[0m     pygame\u001B[38;5;241m.\u001B[39mevent\u001B[38;5;241m.\u001B[39mpump()\n\u001B[0;32m    292\u001B[0m     pygame\u001B[38;5;241m.\u001B[39mdisplay\u001B[38;5;241m.\u001B[39mupdate()\n\u001B[1;32m--> 293\u001B[0m     \u001B[38;5;28;43mself\u001B[39;49m\u001B[38;5;241;43m.\u001B[39;49m\u001B[43mclock\u001B[49m\u001B[38;5;241;43m.\u001B[39;49m\u001B[43mtick\u001B[49m\u001B[43m(\u001B[49m\u001B[38;5;28;43mself\u001B[39;49m\u001B[38;5;241;43m.\u001B[39;49m\u001B[43mmetadata\u001B[49m\u001B[43m[\u001B[49m\u001B[38;5;124;43m\"\u001B[39;49m\u001B[38;5;124;43mrender_fps\u001B[39;49m\u001B[38;5;124;43m\"\u001B[39;49m\u001B[43m]\u001B[49m\u001B[43m)\u001B[49m\n\u001B[0;32m    294\u001B[0m \u001B[38;5;28;01melse\u001B[39;00m:  \u001B[38;5;66;03m# rgb_array\u001B[39;00m\n\u001B[0;32m    295\u001B[0m     \u001B[38;5;28;01mreturn\u001B[39;00m np\u001B[38;5;241m.\u001B[39mtranspose(\n\u001B[0;32m    296\u001B[0m         np\u001B[38;5;241m.\u001B[39marray(pygame\u001B[38;5;241m.\u001B[39msurfarray\u001B[38;5;241m.\u001B[39mpixels3d(\u001B[38;5;28mself\u001B[39m\u001B[38;5;241m.\u001B[39mwindow_surface)), axes\u001B[38;5;241m=\u001B[39m(\u001B[38;5;241m1\u001B[39m, \u001B[38;5;241m0\u001B[39m, \u001B[38;5;241m2\u001B[39m)\n\u001B[0;32m    297\u001B[0m     )\n",
      "\u001B[1;31mKeyboardInterrupt\u001B[0m: "
     ]
    }
   ],
   "execution_count": 3
  },
  {
   "metadata": {
    "ExecuteTime": {
     "end_time": "2024-06-12T10:55:10.169932Z",
     "start_time": "2024-06-12T10:55:10.163881Z"
    }
   },
   "cell_type": "code",
   "source": "env.close()",
   "id": "7acf0c131f1a1231",
   "outputs": [],
   "execution_count": 4
  }
 ],
 "metadata": {
  "kernelspec": {
   "display_name": "Python 3",
   "language": "python",
   "name": "python3"
  },
  "language_info": {
   "codemirror_mode": {
    "name": "ipython",
    "version": 2
   },
   "file_extension": ".py",
   "mimetype": "text/x-python",
   "name": "python",
   "nbconvert_exporter": "python",
   "pygments_lexer": "ipython2",
   "version": "2.7.6"
  }
 },
 "nbformat": 4,
 "nbformat_minor": 5
}
